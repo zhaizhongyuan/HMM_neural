{
 "cells": [
  {
   "cell_type": "markdown",
   "metadata": {
    "nbpresent": {
     "id": "5918355f-c759-41e8-9cc9-64baf78695b3"
    }
   },
   "source": [
    "# HMM State Clustering\n",
    "In this notebook we'll explore a post-hoc method for clustering HMM states.\n",
    "The idea is, given an HMM which has been fit to data, we reduce the number of states hierarchically by merging pairs of states. Let's say we start with an HMM with K states. The idea is that we'll try merging every pair of states and see which merge makes the log-likelihood of the data go down the least. Once we find that pair, we have K-1 states, and we repeat this process until we have satisfactorily few states.\n",
    "\n",
    "**Note**: This notebook is a little rough around the edges."
   ]
  },
  {
   "cell_type": "code",
   "execution_count": 12,
   "metadata": {
    "nbpresent": {
     "id": "346a61a3-9216-480d-b5b8-39a78782a8c3"
    }
   },
   "outputs": [],
   "source": [
    "import os\n",
    "import pickle\n",
    "import joblib\n",
    "import time\n",
    "\n",
    "import autograd.numpy as np\n",
    "import autograd.numpy.random as npr\n",
    "npr.seed(0)\n",
    "\n",
    "from sklearn.utils import check_array, check_random_state\n",
    "\n",
    "import ssm\n",
    "from ssm.util import find_permutation\n",
    "from ssm.plots import gradient_cmap, white_to_color_cmap\n",
    "\n",
    "import hmmlearn\n",
    "from hmmlearn import hmm\n",
    "from hmmlearn import _utils\n",
    "from hmmlearn.utils import normalize\n",
    "\n",
    "import matplotlib.pyplot as plt\n",
    "%matplotlib inline\n",
    "\n",
    "import scipy.stats as stats\n",
    "\n",
    "import seaborn as sns\n",
    "sns.set_style(\"white\")\n",
    "sns.set_context(\"talk\")\n",
    "\n",
    "color_names = [\n",
    "    \"windows blue\",\n",
    "    \"red\",\n",
    "    \"amber\",\n",
    "    \"faded green\",\n",
    "    \"dusty purple\",\n",
    "    \"orange\"\n",
    "    ]\n",
    "\n",
    "colors = sns.xkcd_palette(color_names)\n",
    "cmap = gradient_cmap(colors)"
   ]
  },
  {
   "cell_type": "markdown",
   "metadata": {},
   "source": [
    "# Cluster states from the original HMM\n",
    "\n",
    "The `merge_two_states` function below takes in a trained HMM, and indices of two states, s1 and s2. It outputs a new HMM where all states except for s1 and s2 are the same, along with the log-likelihood of the data under the new model.\n",
    "\n",
    "Here's how we merge two states: In the E-step of the EM algorithm, we obtain a T x K table, which has the probability of being in state K at time T for every time point. To merge state k1 and k2, we take the two columns of the table corresponding to these two states and sum them. From this, we get a new table which is K-1 x T. We then run an M-step as normal to get the best parameters for our new K-1 state model, and evaluate the log likelihood.\n",
    "\n",
    "**NOTE**: as written, the below function does not support inputs or masks, and it is limited to HMMs with stationary transitions. "
   ]
  },
  {
   "cell_type": "code",
   "execution_count": 15,
   "metadata": {},
   "outputs": [
    {
     "name": "stdout",
     "output_type": "stream",
     "text": [
      "Spike times are binned into shape for hmm: (4800, 90)\n"
     ]
    }
   ],
   "source": [
    "filename = '/Users/Caravaggio/Downloads/m1_fr0.1hz_30hz_0s_7200s_0.1s_bins_nooverlap.sav'\n",
    "\n",
    "with open(filename, 'rb') as file:\n",
    "    spike_times_all_neurons = joblib.load(file)\n",
    "\n",
    "# Convert to numpy array\n",
    "spike_times_all_neurons = np.array(spike_times_all_neurons)\n",
    "\n",
    "# Transpose into (71999, 90)\n",
    "spike_times_all_neurons = spike_times_all_neurons.T\n",
    "\n",
    "# Truncate two hour recording to 10 minutes into (6000, 90), \n",
    "# 0th to 45th L5/6, 46th to 89th L2/3, 89th being the most shallow\n",
    "spike_times_all_neurons = spike_times_all_neurons[:6000]\n",
    "\n",
    "# Z-score each neuron, i.e. firing rates of each neuron across time sum to 0\n",
    "spike_times_all_neurons_zscored = stats.zscore(spike_times_all_neurons) # Default axis is 0\n",
    "\n",
    "data = spike_times_all_neurons_zscored\n",
    "print(f'Spike times are binned into shape for hmm: {data.shape}')"
   ]
  },
  {
   "cell_type": "code",
   "execution_count": 16,
   "metadata": {},
   "outputs": [
    {
     "name": "stdout",
     "output_type": "stream",
     "text": [
      "12.933274269104004 seconds taken to fit a 15-state hmm model using hmmlearn.\n"
     ]
    }
   ],
   "source": [
    "# Set the parameters\n",
    "num_states = 20   # number of discrete states\n",
    "\n",
    "# hmmlearn_hmm\n",
    "hmm_test = hmmlearn.hmm.GaussianHMM(n_components=num_states, covariance_type=\"full\", n_iter=100, verbose=False)\n",
    "t_start = time.time()\n",
    "hmm_test.fit(data)\n",
    "t_end = time.time()\n",
    "print(f'{t_end - t_start} seconds taken to fit a 15-state hmm model using hmmlearn.')"
   ]
  },
  {
   "cell_type": "code",
   "execution_count": 17,
   "metadata": {},
   "outputs": [],
   "source": [
    "def merge_two_states(hmm_old, s1, s2, data, observations=\"gaussian\"):\n",
    "    assert s1 < s2\n",
    "    \n",
    "    def collapse_and_sum_1d(arr, i, j):\n",
    "        out = arr.copy()\n",
    "        out[i] += out[j]\n",
    "        return np.delete(out, j)\n",
    "    \n",
    "    def collapse_and_sum_2d(arr, i, j, axis=0):\n",
    "        assert axis <= 1\n",
    "        out = arr.copy()\n",
    "        if axis == 0:\n",
    "            out[i,:] += out[j,:]\n",
    "            return np.delete(out, j, axis=0)\n",
    "        if axis == 1:\n",
    "            out[:, i] += out[:, j]\n",
    "            return np.delete(out, j, axis=1)\n",
    "    \n",
    "    data = check_array(data)\n",
    "    hmm_old._check()\n",
    "   \n",
    "    start_prob = hmm_old.startprob_\n",
    "    start_prob_new = collapse_and_sum_1d(start_prob, s1, s2)\n",
    "    \n",
    "    transmtx = hmm_old.transmat_\n",
    "    transmtx_new = collapse_and_sum_2d(transmtx, s1, s2, axis=1)\n",
    "    transmtx_new = collapse_and_sum_2d(transmtx_new, s1, s2, axis=0)\n",
    "    \n",
    "    K = hmm_old.n_components\n",
    "    hmm_new = hmm.GaussianHMM(n_components=K-1, covariance_type=\"full\", verbose=True)\n",
    "    hmm_new._init(data)\n",
    "    hmm_new._check()\n",
    "    stats = hmm_new._initialize_sufficient_statistics()\n",
    "    stats['start'] = start_prob_new\n",
    "    stats['trans'] = transmtx_new\n",
    "    \n",
    "    lattice, log_prob, posteriors, fwdlattice, bwdlattice = \\\n",
    "                    hmm_old._fit_log(data)\n",
    "    posteriors_new = collapse_and_sum_2d(posteriors, s1, s2, axis=1)\n",
    "    post_new = posteriors_new.sum(axis=0)\n",
    "    stats['post'] = post_new\n",
    "    stats['obs'] = np.dot(posteriors_new.T, data)\n",
    "    stats['obs*obs.T'] += np.einsum(\n",
    "                    'ij,ik,il->jkl', posteriors_new, data, data) \n",
    "    hmm_new._do_mstep(stats)\n",
    "    ll_new = hmm_new.score(data)\n",
    "    \n",
    "    return ll_new, hmm_new"
   ]
  },
  {
   "cell_type": "code",
   "execution_count": null,
   "metadata": {},
   "outputs": [],
   "source": [
    "# merge two states using hmmlearn\n",
    "hmm_old = hmm_test\n",
    "ll_old = hmm_old.score(data)\n",
    "print('previous log-likelihood is ' + str(ll_old))\n",
    "ll_new, hmm_new = merge_two_states(hmm_test, 0, 3, data)\n",
    "print('current log-likelihood is ' + str(ll_new))\n",
    "print(\"likelihood drop: \", ll_old - ll_new)"
   ]
  },
  {
   "cell_type": "markdown",
   "metadata": {},
   "source": [
    "## Make a pairwise similarity matrix\n",
    "\n",
    "We can use the log-likelihood drop when merging states as a proxy for state \"similarity.\" Two states which can be merged with minimal drop in likelihood might be considered similar."
   ]
  },
  {
   "cell_type": "code",
   "execution_count": 18,
   "metadata": {},
   "outputs": [],
   "source": [
    "def make_similarity_matrix(hmm_original, data):\n",
    "    num_states = hmm_original.n_components\n",
    "    init_ll = hmm_original.score(data)\n",
    "    similarity = np.nan * np.ones((num_states, num_states))\n",
    "    merged_hmms = np.empty((num_states, num_states), dtype=object)\n",
    "    for s1 in range(num_states-1):\n",
    "        for s2 in range(s1+1, num_states):\n",
    "            merged_ll, merged_hmm = merge_two_states(hmm_original, s1, s2, data)\n",
    "            similarity[s1, s2] =  merged_ll - init_ll\n",
    "            merged_hmms[s1, s2] = merged_hmm\n",
    "        print(f'Finished state {s1}')\n",
    "            \n",
    "    return similarity, merged_hmms"
   ]
  },
  {
   "cell_type": "code",
   "execution_count": null,
   "metadata": {},
   "outputs": [],
   "source": [
    "t_start = time.time()\n",
    "similarity, new_hmms = make_similarity_matrix(hmm_test, data)\n",
    "t_end = time.time()\n",
    "print(f'{t_end - t_start} seconds taken to make a similarity matrix for a 15-state hmm.')\n",
    "im = plt.imshow(similarity)\n",
    "plt.ylabel(\"state 1\")\n",
    "plt.xlabel(\"state 2\")\n",
    "plt.title(\"similarity\")\n",
    "plt.colorbar()"
   ]
  },
  {
   "cell_type": "markdown",
   "metadata": {},
   "source": [
    "## Hierarchical clustering by iteratively merging states\n",
    "We start with a K state HMM, then merge possible pair of states k1 and k2. We can see which are the best two states to merge by checking the new log-likelihood. We then rinse and repeat for our new K-1 state HMM, tracking the log-likelihood as we go, until there is only 1 state left. After each merge, we can show the observation distribution and new similarity matrix."
   ]
  },
  {
   "cell_type": "code",
   "execution_count": 19,
   "metadata": {},
   "outputs": [],
   "source": [
    "def hierarchical_cluster(hmm_original, data, p=1):\n",
    "    num_states = hmm_original.n_components\n",
    "    assert p <= num_states\n",
    "    assert p >= 1\n",
    "    merge_times = num_states - p\n",
    "    \n",
    "    linkage = [None]\n",
    "    likelihood_drops = [0]\n",
    "    hmms = [hmm_original]\n",
    "    \n",
    "    for i in range(merge_times):\n",
    "        similarity, merged_hmms = make_similarity_matrix(hmms[-1], data)\n",
    "        \n",
    "        # Find the most similar states\n",
    "        s1, s2 = np.where(similarity == np.nanmax(similarity))\n",
    "        s1, s2 = s1[0], s2[0]\n",
    "        linkage.append((s1, s2))\n",
    "        likelihood_drops.append(similarity[s1, s2])\n",
    "        hmms.append(merged_hmms[s1, s2])\n",
    "        print(\"merging \", s1, \"and\", s2)\n",
    "    \n",
    "    return linkage, likelihood_drops, hmms"
   ]
  },
  {
   "cell_type": "code",
   "execution_count": 20,
   "metadata": {},
   "outputs": [
    {
     "name": "stdout",
     "output_type": "stream",
     "text": [
      "Finished state 0\n",
      "Finished state 1\n",
      "Finished state 2\n",
      "Finished state 3\n",
      "Finished state 4\n",
      "Finished state 5\n",
      "Finished state 6\n",
      "Finished state 7\n",
      "Finished state 8\n",
      "Finished state 9\n",
      "Finished state 10\n",
      "Finished state 11\n",
      "Finished state 12\n",
      "Finished state 13\n",
      "merging  4 and 7\n",
      "Finished state 0\n",
      "Finished state 1\n",
      "Finished state 2\n",
      "Finished state 3\n",
      "Finished state 4\n",
      "Finished state 5\n",
      "Finished state 6\n",
      "Finished state 7\n",
      "Finished state 8\n",
      "Finished state 9\n",
      "Finished state 10\n",
      "Finished state 11\n",
      "Finished state 12\n",
      "merging  0 and 2\n",
      "Finished state 0\n",
      "Finished state 1\n",
      "Finished state 2\n",
      "Finished state 3\n",
      "Finished state 4\n",
      "Finished state 5\n",
      "Finished state 6\n",
      "Finished state 7\n",
      "Finished state 8\n",
      "Finished state 9\n",
      "Finished state 10\n",
      "Finished state 11\n",
      "merging  1 and 7\n",
      "Finished state 0\n",
      "Finished state 1\n",
      "Finished state 2\n",
      "Finished state 3\n",
      "Finished state 4\n",
      "Finished state 5\n",
      "Finished state 6\n",
      "Finished state 7\n",
      "Finished state 8\n",
      "Finished state 9\n",
      "Finished state 10\n",
      "merging  9 and 11\n",
      "Finished state 0\n",
      "Finished state 1\n",
      "Finished state 2\n",
      "Finished state 3\n",
      "Finished state 4\n",
      "Finished state 5\n",
      "Finished state 6\n",
      "Finished state 7\n",
      "Finished state 8\n",
      "Finished state 9\n",
      "merging  2 and 9\n",
      "Finished state 0\n",
      "Finished state 1\n",
      "Finished state 2\n",
      "Finished state 3\n",
      "Finished state 4\n",
      "Finished state 5\n",
      "Finished state 6\n",
      "Finished state 7\n",
      "Finished state 8\n",
      "merging  3 and 9\n",
      "Finished state 0\n",
      "Finished state 1\n",
      "Finished state 2\n",
      "Finished state 3\n",
      "Finished state 4\n",
      "Finished state 5\n",
      "Finished state 6\n",
      "Finished state 7\n",
      "merging  0 and 1\n",
      "Finished state 0\n",
      "Finished state 1\n",
      "Finished state 2\n",
      "Finished state 3\n",
      "Finished state 4\n",
      "Finished state 5\n",
      "Finished state 6\n",
      "merging  0 and 3\n",
      "Finished state 0\n",
      "Finished state 1\n",
      "Finished state 2\n",
      "Finished state 3\n",
      "Finished state 4\n",
      "Finished state 5\n",
      "merging  0 and 1\n",
      "Finished state 0\n",
      "Finished state 1\n",
      "Finished state 2\n",
      "Finished state 3\n",
      "Finished state 4\n",
      "merging  0 and 1\n",
      "Finished state 0\n",
      "Finished state 1\n",
      "Finished state 2\n",
      "Finished state 3\n",
      "merging  0 and 2\n",
      "Finished state 0\n",
      "Finished state 1\n",
      "Finished state 2\n",
      "merging  0 and 2\n",
      "Finished state 0\n",
      "Finished state 1\n",
      "merging  0 and 2\n",
      "Finished state 0\n",
      "merging  0 and 1\n"
     ]
    }
   ],
   "source": [
    "linkage, likelihood_drops, hmms = hierarchical_cluster(hmm_test, data, p=1)"
   ]
  },
  {
   "cell_type": "markdown",
   "metadata": {},
   "source": [
    "## Now plot the dendrogram using likelihood drop as similarity"
   ]
  },
  {
   "cell_type": "code",
   "execution_count": 24,
   "metadata": {},
   "outputs": [
    {
     "data": {
      "image/png": "[encoded data removed]",
      "text/plain": [
       "<Figure size 2664x1512 with 1 Axes>"
      ]
     },
     "metadata": {},
     "output_type": "display_data"
    }
   ],
   "source": [
    "def dendrogram(num_states, linkage, likelihood_drops):\n",
    "    plt.figure()\n",
    "    fig = plt.gcf()\n",
    "    fig.set_size_inches(37, 21)\n",
    "    \n",
    "    def _plot_level(s1, s2, likelihood_drop, xs, offset):\n",
    "        new_offset = offset - likelihood_drop\n",
    "        for x in xs:\n",
    "            plt.plot([x, x], [offset, new_offset], '-', color='#ff7f0e', lw=2)\n",
    "            plt.plot([xs[s1], xs[s2]], [new_offset, new_offset], '-', color='#ff7f0e', lw=2)\n",
    "\n",
    "        new_xs = xs.copy()\n",
    "        new_xs[s1] = xs[s1] + (xs[s2] - xs[s1]) * npr.rand()\n",
    "        new_xs = np.concatenate([new_xs[:s2], new_xs[s2+1:]])\n",
    "        return new_xs, new_offset\n",
    "    \n",
    "    xs = np.arange(num_states, dtype=float)\n",
    "    offset = 0\n",
    "    \n",
    "    for (s1, s2), drop in zip(linkage[1:], likelihood_drops[1:]):\n",
    "        xs, offset = _plot_level(s1, s2, drop, xs, offset)\n",
    "        \n",
    "    plt.xlabel(\"State\", fontsize=35)\n",
    "    plt.xticks(np.arange(num_states, dtype=float))\n",
    "    plt.ylabel(\"Likelihood drop\", fontsize=35)\n",
    "        \n",
    "dendrogram(hmm_test.n_components, linkage, likelihood_drops)\n",
    "\n",
    "save_plot = True\n",
    "if save_plot == True:\n",
    "    plt.savefig('hmm_15_states_hierarchical_clustering.png', dpi=300, bbox_inches = \"tight\")"
   ]
  },
  {
   "cell_type": "code",
   "execution_count": null,
   "metadata": {},
   "outputs": [],
   "source": []
  }
 ],
 "metadata": {
  "@webio": {
   "lastCommId": null,
   "lastKernelId": null
  },
  "kernelspec": {
   "display_name": "Python 3 (ipykernel)",
   "language": "python",
   "name": "python3"
  },
  "language_info": {
   "codemirror_mode": {
    "name": "ipython",
    "version": 3
   },
   "file_extension": ".py",
   "mimetype": "text/x-python",
   "name": "python",
   "nbconvert_exporter": "python",
   "pygments_lexer": "ipython3",
   "version": "3.8.0"
  }
 },
 "nbformat": 4,
 "nbformat_minor": 4
}
